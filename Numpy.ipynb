{
  "nbformat": 4,
  "nbformat_minor": 0,
  "metadata": {
    "colab": {
      "name": "DS 11 - Numpy .ipynb",
      "provenance": []
    },
    "kernelspec": {
      "name": "python3",
      "display_name": "Python 3"
    },
    "language_info": {
      "name": "python"
    }
  },
  "cells": [
    {
      "cell_type": "markdown",
      "source": [
        "# **Introduction to Numpy**\n",
        "  \n",
        "  by : Hanindhiya Ika Septiana\n",
        "  \n",
        "---\n",
        "\n",
        "**Contents:**\n",
        "  *   Creating Numpy Array\n",
        "  *   Matrix Operation\n",
        "  *   Indexing, Slicing dan Iterasi Array\n",
        "  *   Array Reshapping\n",
        "  *   Joining Array\n",
        "  *   List item\n",
        "\n"
      ],
      "metadata": {
        "id": "jEKOhfZHVG7u"
      }
    },
    {
      "cell_type": "code",
      "execution_count": null,
      "metadata": {
        "colab": {
          "base_uri": "https://localhost:8080/"
        },
        "id": "yD5bCHuoSm8o",
        "outputId": "48317276-d918-4732-c0b2-f5658445ce0a"
      },
      "outputs": [
        {
          "output_type": "stream",
          "name": "stdout",
          "text": [
            "Requirement already satisfied: numpy in /usr/local/lib/python3.7/dist-packages (1.19.5)\n"
          ]
        }
      ],
      "source": [
        "!pip install numpy"
      ]
    },
    {
      "cell_type": "code",
      "source": [
        "import numpy as np "
      ],
      "metadata": {
        "id": "S5vA6Dy1eV6x"
      },
      "execution_count": null,
      "outputs": []
    },
    {
      "cell_type": "markdown",
      "source": [
        "### **Creating Numpy Array**"
      ],
      "metadata": {
        "id": "iqQf14rypGni"
      }
    },
    {
      "cell_type": "code",
      "source": [
        "# 1D Array \n",
        "# axis 0 = 1,2,3 dan 4 (kesamping)\n",
        "arr1 = np.array([1,2,3,4])\n",
        "print(\"Dimension:\", arr1.ndim)\n",
        "arr1"
      ],
      "metadata": {
        "colab": {
          "base_uri": "https://localhost:8080/"
        },
        "id": "AHGUfne8eqAQ",
        "outputId": "0a36ee00-6f1a-435e-b560-944ea2293b09"
      },
      "execution_count": null,
      "outputs": [
        {
          "output_type": "stream",
          "name": "stdout",
          "text": [
            "Dimension: 1\n"
          ]
        },
        {
          "output_type": "execute_result",
          "data": {
            "text/plain": [
              "array([1, 2, 3, 4])"
            ]
          },
          "metadata": {},
          "execution_count": 12
        }
      ]
    },
    {
      "cell_type": "code",
      "source": [
        "# 1D Array \n",
        "arr1 = np.array([1.5, 2.5, 3.5, 4.5])\n",
        "print(\"Dimension:\", arr1.ndim)\n",
        "arr1"
      ],
      "metadata": {
        "colab": {
          "base_uri": "https://localhost:8080/"
        },
        "id": "nHFW3qmE--Wr",
        "outputId": "a5b3e7ff-c221-4270-fee5-78facfd81500"
      },
      "execution_count": null,
      "outputs": [
        {
          "output_type": "stream",
          "name": "stdout",
          "text": [
            "Dimension: 1\n"
          ]
        },
        {
          "output_type": "execute_result",
          "data": {
            "text/plain": [
              "array([1.5, 2.5, 3.5, 4.5])"
            ]
          },
          "metadata": {},
          "execution_count": 4
        }
      ]
    },
    {
      "cell_type": "code",
      "source": [
        "# 1D Array - Vector with Range \n",
        "arr_1 = np.arange(1,10,1)\n",
        "arr_1"
      ],
      "metadata": {
        "colab": {
          "base_uri": "https://localhost:8080/"
        },
        "id": "tSDLmQON_4_q",
        "outputId": "41c8c5c4-263f-4e7a-f5d4-912e0f61f281"
      },
      "execution_count": null,
      "outputs": [
        {
          "output_type": "execute_result",
          "data": {
            "text/plain": [
              "array([1, 2, 3, 4, 5, 6, 7, 8, 9])"
            ]
          },
          "metadata": {},
          "execution_count": 9
        }
      ]
    },
    {
      "cell_type": "code",
      "source": [
        "# 2D Array \n",
        "# axis 0 = 1 dan 5 (kebawah) // axis 1 = 1,2,3 dan 4 (kesamping)\n",
        "arr2 = np.array([[1,2,3,4], [5,6,7,8]])\n",
        "print(\"Dimension:\", arr2.ndim)\n",
        "arr2"
      ],
      "metadata": {
        "colab": {
          "base_uri": "https://localhost:8080/"
        },
        "id": "a-ZyetEreyz0",
        "outputId": "26831ce5-b9dd-4ceb-db99-e6b37e27a8c8"
      },
      "execution_count": null,
      "outputs": [
        {
          "output_type": "stream",
          "name": "stdout",
          "text": [
            "Dimension: 2\n"
          ]
        },
        {
          "output_type": "execute_result",
          "data": {
            "text/plain": [
              "array([[1, 2, 3, 4],\n",
              "       [5, 6, 7, 8]])"
            ]
          },
          "metadata": {},
          "execution_count": 11
        }
      ]
    },
    {
      "cell_type": "code",
      "source": [
        "# 3D Array \n",
        "arr3 = np.array([[[1,2,3], [4,5,6]], [[7,8,9], [10,11,12]]])\n",
        "print(\"Dimension:\", arr3.ndim)\n",
        "arr3"
      ],
      "metadata": {
        "colab": {
          "base_uri": "https://localhost:8080/"
        },
        "id": "umLzFLiofl9q",
        "outputId": "010ff174-2056-4015-f0fc-45dd0f16077a"
      },
      "execution_count": null,
      "outputs": [
        {
          "output_type": "stream",
          "name": "stdout",
          "text": [
            "Dimension: 3\n"
          ]
        },
        {
          "output_type": "execute_result",
          "data": {
            "text/plain": [
              "array([[[ 1,  2,  3],\n",
              "        [ 4,  5,  6]],\n",
              "\n",
              "       [[ 7,  8,  9],\n",
              "        [10, 11, 12]]])"
            ]
          },
          "metadata": {},
          "execution_count": 10
        }
      ]
    },
    {
      "cell_type": "code",
      "source": [
        "# Array + 1\n",
        "arr4 = np.array( [ (1,2,3), (4,5,6)] )\n",
        "print(arr4 + 1)"
      ],
      "metadata": {
        "colab": {
          "base_uri": "https://localhost:8080/"
        },
        "id": "IGYlfQy4BRHu",
        "outputId": "e015ad1d-09cb-452c-bd6c-3f36ca05a986"
      },
      "execution_count": null,
      "outputs": [
        {
          "output_type": "stream",
          "name": "stdout",
          "text": [
            "[[2 3 4]\n",
            " [5 6 7]]\n"
          ]
        }
      ]
    },
    {
      "cell_type": "code",
      "source": [
        "# Matrix with 0\n",
        "arr5 = np.zeros(6)\n",
        "arr5"
      ],
      "metadata": {
        "colab": {
          "base_uri": "https://localhost:8080/"
        },
        "id": "w_dU83ZJCTMf",
        "outputId": "53daf3ef-dec1-4895-89b6-bb724336ba2a"
      },
      "execution_count": null,
      "outputs": [
        {
          "output_type": "execute_result",
          "data": {
            "text/plain": [
              "array([0., 0., 0., 0., 0., 0.])"
            ]
          },
          "metadata": {},
          "execution_count": 17
        }
      ]
    },
    {
      "cell_type": "code",
      "source": [
        "# Matrix with 1 \n",
        "arr6 = np.ones((6,6))\n",
        "arr6"
      ],
      "metadata": {
        "colab": {
          "base_uri": "https://localhost:8080/"
        },
        "id": "spEG466LCyJI",
        "outputId": "af557940-cb4b-4cf8-bca6-82ba60b298f5"
      },
      "execution_count": null,
      "outputs": [
        {
          "output_type": "execute_result",
          "data": {
            "text/plain": [
              "array([[1., 1., 1., 1., 1., 1.],\n",
              "       [1., 1., 1., 1., 1., 1.],\n",
              "       [1., 1., 1., 1., 1., 1.],\n",
              "       [1., 1., 1., 1., 1., 1.],\n",
              "       [1., 1., 1., 1., 1., 1.],\n",
              "       [1., 1., 1., 1., 1., 1.]])"
            ]
          },
          "metadata": {},
          "execution_count": 19
        }
      ]
    },
    {
      "cell_type": "code",
      "source": [
        "# Matrix with Identity\n",
        "m1 = np.identity(5)\n",
        "m1"
      ],
      "metadata": {
        "colab": {
          "base_uri": "https://localhost:8080/"
        },
        "id": "P2J-ry-uDR01",
        "outputId": "c688a9e6-015d-46cc-9973-7601098e451c"
      },
      "execution_count": null,
      "outputs": [
        {
          "output_type": "execute_result",
          "data": {
            "text/plain": [
              "array([[1., 0., 0., 0., 0.],\n",
              "       [0., 1., 0., 0., 0.],\n",
              "       [0., 0., 1., 0., 0.],\n",
              "       [0., 0., 0., 1., 0.],\n",
              "       [0., 0., 0., 0., 1.]])"
            ]
          },
          "metadata": {},
          "execution_count": 20
        }
      ]
    },
    {
      "cell_type": "code",
      "source": [
        "# HOMEWORK - Introduction to Numpy \n",
        "# Buatlah matrix 2 dimensi dengan nilai 1 - 30\n",
        "arr_hw = np.array([[1,2,3,4,5,6], \n",
        "                  [7,8,9,10,11,12],\n",
        "                  [13,14,15,16,17,18],\n",
        "                  [19,20,21,22,23,24],\n",
        "                  [25,26,27,28,29,30]])\n",
        "print(\"Dimension:\", arr_hw.ndim)\n",
        "arr_hw"
      ],
      "metadata": {
        "colab": {
          "base_uri": "https://localhost:8080/"
        },
        "id": "_FMBbDOFZ5mM",
        "outputId": "8e76e355-7831-4b1c-ac15-15c80633087c"
      },
      "execution_count": null,
      "outputs": [
        {
          "output_type": "stream",
          "name": "stdout",
          "text": [
            "Dimension: 2\n"
          ]
        },
        {
          "output_type": "execute_result",
          "data": {
            "text/plain": [
              "array([[ 1,  2,  3,  4,  5,  6],\n",
              "       [ 7,  8,  9, 10, 11, 12],\n",
              "       [13, 14, 15, 16, 17, 18],\n",
              "       [19, 20, 21, 22, 23, 24],\n",
              "       [25, 26, 27, 28, 29, 30]])"
            ]
          },
          "metadata": {},
          "execution_count": 4
        }
      ]
    },
    {
      "cell_type": "code",
      "source": [
        "# HOMEWORK - Introduction to Numpy \n",
        "# Coding dan ambil angka 2,8,14,20,26\n",
        "\n",
        "arr_hw[0:,1]"
      ],
      "metadata": {
        "colab": {
          "base_uri": "https://localhost:8080/"
        },
        "id": "h2VHxm4PgdFg",
        "outputId": "0e9579bf-0c76-4467-a02a-641daf26decb"
      },
      "execution_count": null,
      "outputs": [
        {
          "output_type": "execute_result",
          "data": {
            "text/plain": [
              "array([ 2,  8, 14, 20, 26])"
            ]
          },
          "metadata": {},
          "execution_count": 7
        }
      ]
    },
    {
      "cell_type": "code",
      "source": [
        "# HOMEWORK - Introduction to Numpy \n",
        "# Coding dan ambil angka 2,3,4,5,6 \n",
        "arr_hw[0,1:]"
      ],
      "metadata": {
        "colab": {
          "base_uri": "https://localhost:8080/"
        },
        "id": "0LGFnuPuiBWH",
        "outputId": "77b840b8-5269-4411-d468-cdace7d0b23b"
      },
      "execution_count": null,
      "outputs": [
        {
          "output_type": "execute_result",
          "data": {
            "text/plain": [
              "array([2, 3, 4, 5, 6])"
            ]
          },
          "metadata": {},
          "execution_count": 10
        }
      ]
    },
    {
      "cell_type": "code",
      "source": [
        "# HOMEWORK - Introduction to Numpy \n",
        "# Coding dan ambil angka 23,24,29,30\n",
        "arr_hw[3:,4:]"
      ],
      "metadata": {
        "colab": {
          "base_uri": "https://localhost:8080/"
        },
        "id": "DOmJLKo_hjIN",
        "outputId": "cc52fa2a-e0cf-407d-ee00-15098e639e37"
      },
      "execution_count": null,
      "outputs": [
        {
          "output_type": "execute_result",
          "data": {
            "text/plain": [
              "array([[23, 24],\n",
              "       [29, 30]])"
            ]
          },
          "metadata": {},
          "execution_count": 6
        }
      ]
    },
    {
      "cell_type": "markdown",
      "source": [
        "### **Matrix Operation**"
      ],
      "metadata": {
        "id": "rgLtWHc4GEjA"
      }
    },
    {
      "cell_type": "code",
      "source": [
        "# 1D Matrix operation\n",
        "# Elementwise Operation\n",
        "# Penjumlahan \n",
        "anp = np.array([1,2,3,4,5])\n",
        "bnp = np.array([6,7,8,9,10])\n",
        "\n",
        "hasil = anp + bnp\n",
        "hasil"
      ],
      "metadata": {
        "colab": {
          "base_uri": "https://localhost:8080/"
        },
        "id": "JzigV7eEGHA6",
        "outputId": "d6e48262-4e98-4c94-d309-1c6b662d9d32"
      },
      "execution_count": null,
      "outputs": [
        {
          "output_type": "execute_result",
          "data": {
            "text/plain": [
              "array([ 7,  9, 11, 13, 15])"
            ]
          },
          "metadata": {},
          "execution_count": 26
        }
      ]
    },
    {
      "cell_type": "code",
      "source": [
        "# 1D Matrix operation\n",
        "# Elementwise Operation\n",
        "# Penjumlahan \n",
        "anp = np.array([1,2,3,4,5])\n",
        "bnp = np.array([6,7,8,9,10])\n",
        "\n",
        "np.add(anp,bnp)"
      ],
      "metadata": {
        "colab": {
          "base_uri": "https://localhost:8080/"
        },
        "id": "1KKtFK05BUov",
        "outputId": "ce66acf0-7833-467c-b9d4-c00c87d9b196"
      },
      "execution_count": null,
      "outputs": [
        {
          "output_type": "execute_result",
          "data": {
            "text/plain": [
              "array([ 7,  9, 11, 13, 15])"
            ]
          },
          "metadata": {},
          "execution_count": 2
        }
      ]
    },
    {
      "cell_type": "code",
      "source": [
        "# Elementwise Operation\n",
        "# Pengurangan\n",
        "anp = np.array([1,2,3,4,5])\n",
        "bnp = np.array([6,7,8,9,10])\n",
        "\n",
        "hasil = anp - bnp\n",
        "hasil"
      ],
      "metadata": {
        "colab": {
          "base_uri": "https://localhost:8080/"
        },
        "id": "EYb9e-a6K7On",
        "outputId": "ae21eac9-dae2-467c-ee8e-c5fad9078c7d"
      },
      "execution_count": null,
      "outputs": [
        {
          "output_type": "execute_result",
          "data": {
            "text/plain": [
              "array([-5, -5, -5, -5, -5])"
            ]
          },
          "metadata": {},
          "execution_count": 11
        }
      ]
    },
    {
      "cell_type": "code",
      "source": [
        "# Elementwise Operation\n",
        "# Perkalian\n",
        "anp = np.array([1,2,3,4,5])\n",
        "bnp = np.array([6,7,8,9,10])\n",
        "\n",
        "hasil = anp * bnp\n",
        "hasil"
      ],
      "metadata": {
        "colab": {
          "base_uri": "https://localhost:8080/"
        },
        "id": "ODkqstM8Lgt-",
        "outputId": "089a2dbe-dc0c-434f-e90b-40f97de61c34"
      },
      "execution_count": null,
      "outputs": [
        {
          "output_type": "execute_result",
          "data": {
            "text/plain": [
              "array([ 6, 14, 24, 36, 50])"
            ]
          },
          "metadata": {},
          "execution_count": 12
        }
      ]
    },
    {
      "cell_type": "code",
      "source": [
        "# Elementwise Operation\n",
        "# Pembagian\n",
        "anp = np.array([1,2,3,4,5])\n",
        "bnp = np.array([6,7,8,9,10])\n",
        "\n",
        "hasil = anp / bnp\n",
        "hasil"
      ],
      "metadata": {
        "colab": {
          "base_uri": "https://localhost:8080/"
        },
        "id": "t6CKQourLzRI",
        "outputId": "c4e3c9a4-db18-4bf5-f706-7707646807c3"
      },
      "execution_count": null,
      "outputs": [
        {
          "output_type": "execute_result",
          "data": {
            "text/plain": [
              "array([0.16666667, 0.28571429, 0.375     , 0.44444444, 0.5       ])"
            ]
          },
          "metadata": {},
          "execution_count": 13
        }
      ]
    },
    {
      "cell_type": "code",
      "source": [
        "# Perkalian Matriks\n",
        "# 2D Array x 2D Array\n",
        "arr1 = np.array([[1,2],\n",
        "                [3,4]])\n",
        "arr2 = np.ones([2,2])\n",
        "\n",
        "hasil = np.dot(arr1,arr2)\n",
        "print('Hasil Perkalian Matriks 2D x 2D')\n",
        "print(hasil)"
      ],
      "metadata": {
        "colab": {
          "base_uri": "https://localhost:8080/"
        },
        "id": "4j7u1iA2BvUu",
        "outputId": "d1171217-4b38-48a3-b490-c40058833021"
      },
      "execution_count": null,
      "outputs": [
        {
          "output_type": "stream",
          "name": "stdout",
          "text": [
            "Hasil Perkalian Matriks 2D x 2D\n",
            "[[3. 3.]\n",
            " [7. 7.]]\n"
          ]
        }
      ]
    },
    {
      "cell_type": "code",
      "source": [
        "# Perkalian Matriks\n",
        "# 2D Array x 3D Array\n",
        "arr3 = np.array([[1,2,3],\n",
        "                 [4,0,1]])\n",
        "arr4 = np.array([[1,2],\n",
        "                  [3,1],\n",
        "                  [-1,2]])\n",
        "\n",
        "hasil = np.dot(arr3,arr4)\n",
        "print('Hasil Perkalian Matriks 2D x 3D')\n",
        "print(hasil)"
      ],
      "metadata": {
        "colab": {
          "base_uri": "https://localhost:8080/"
        },
        "id": "uZylPaBdExgw",
        "outputId": "cb529424-99da-4424-b9ce-fe460468de10"
      },
      "execution_count": null,
      "outputs": [
        {
          "output_type": "stream",
          "name": "stdout",
          "text": [
            "Hasil Perkalian Matriks 2D x 3D\n",
            "[[ 4 10]\n",
            " [ 3 10]]\n"
          ]
        }
      ]
    },
    {
      "cell_type": "markdown",
      "source": [
        "### **Indexing, Slicing dan Iterasi Array**"
      ],
      "metadata": {
        "id": "ORD_wUKTo9zF"
      }
    },
    {
      "cell_type": "code",
      "source": [
        "# Indexing\n",
        "#Get the number 1 from array\n",
        "arr1 = np.array([1,2,3,4])\n",
        "arr1[0]"
      ],
      "metadata": {
        "colab": {
          "base_uri": "https://localhost:8080/"
        },
        "id": "37ezEe7OpAvD",
        "outputId": "8936934a-81de-49eb-d668-d6da55197397"
      },
      "execution_count": null,
      "outputs": [
        {
          "output_type": "execute_result",
          "data": {
            "text/plain": [
              "1"
            ]
          },
          "metadata": {},
          "execution_count": 14
        }
      ]
    },
    {
      "cell_type": "code",
      "source": [
        "# Indexing\n",
        "# get the last 2 data in array\n",
        "arr1 [-2:]"
      ],
      "metadata": {
        "colab": {
          "base_uri": "https://localhost:8080/"
        },
        "id": "X9RgYMfPp9_n",
        "outputId": "c792d4d9-7c84-41ee-ee70-2a95b8f0e53d"
      },
      "execution_count": null,
      "outputs": [
        {
          "output_type": "execute_result",
          "data": {
            "text/plain": [
              "array([3, 4])"
            ]
          },
          "metadata": {},
          "execution_count": 17
        }
      ]
    },
    {
      "cell_type": "code",
      "source": [
        "# Slicing\n",
        "# get the second index from the second array\n",
        "arr2 = np.array([[1,2,3,4], [5,6,7,8]])\n",
        "arr2 [1,1] #[start,end]"
      ],
      "metadata": {
        "colab": {
          "base_uri": "https://localhost:8080/"
        },
        "id": "NSH82Ul4u1LM",
        "outputId": "436de7c1-30eb-42ce-8591-c4e14160af5e"
      },
      "execution_count": null,
      "outputs": [
        {
          "output_type": "execute_result",
          "data": {
            "text/plain": [
              "6"
            ]
          },
          "metadata": {},
          "execution_count": 26
        }
      ]
    },
    {
      "cell_type": "code",
      "source": [
        "# Iterasi\n",
        "a = np.arange(10)**2\n",
        "\n",
        "for i in a:\n",
        "  print('Value =', i)"
      ],
      "metadata": {
        "colab": {
          "base_uri": "https://localhost:8080/"
        },
        "id": "q6A1LV4LoNuX",
        "outputId": "501f7a03-2e14-4d2c-c232-b12a5366a834"
      },
      "execution_count": null,
      "outputs": [
        {
          "output_type": "stream",
          "name": "stdout",
          "text": [
            "Value = 0\n",
            "Value = 1\n",
            "Value = 4\n",
            "Value = 9\n",
            "Value = 16\n",
            "Value = 25\n",
            "Value = 36\n",
            "Value = 49\n",
            "Value = 64\n",
            "Value = 81\n"
          ]
        }
      ]
    },
    {
      "cell_type": "markdown",
      "source": [
        "### **Array Reshaping** "
      ],
      "metadata": {
        "id": "4nuIQxz9TrSZ"
      }
    },
    {
      "cell_type": "code",
      "source": [
        "# Transpose \n",
        "a = np.array(([1,2,3],\n",
        "              [4,5,6]))\n",
        "print('Tampilkan Matriks a dengan ukuran', a.shape)\n",
        "print(a)\n",
        "\n",
        "print('Tampilkan Matriks a yang sudah ditranspose')\n",
        "print(a.transpose())"
      ],
      "metadata": {
        "colab": {
          "base_uri": "https://localhost:8080/"
        },
        "id": "deRCtDgwMfP6",
        "outputId": "e57d1dc4-46e4-46f0-a371-067ce7ea9504"
      },
      "execution_count": null,
      "outputs": [
        {
          "output_type": "stream",
          "name": "stdout",
          "text": [
            "Tampilkan Matriks a dengan ukuran (2, 3)\n",
            "[[1 2 3]\n",
            " [4 5 6]]\n",
            "Tampilkan Matriks a yang sudah ditranspose\n",
            "[[1 4]\n",
            " [2 5]\n",
            " [3 6]]\n"
          ]
        }
      ]
    },
    {
      "cell_type": "code",
      "source": [
        "array_b = np.array([i for i in range(20)])\n",
        "array_b"
      ],
      "metadata": {
        "colab": {
          "base_uri": "https://localhost:8080/"
        },
        "id": "GaNDGnYeTxME",
        "outputId": "898fb06c-58b6-4267-b8bf-00204756b994"
      },
      "execution_count": null,
      "outputs": [
        {
          "output_type": "execute_result",
          "data": {
            "text/plain": [
              "array([ 0,  1,  2,  3,  4,  5,  6,  7,  8,  9, 10, 11, 12, 13, 14, 15, 16,\n",
              "       17, 18, 19])"
            ]
          },
          "metadata": {},
          "execution_count": 47
        }
      ]
    },
    {
      "cell_type": "code",
      "source": [
        "# Reshape from 1D to 2D\n",
        "array_b.reshape(4,5) #Having 4 array with 5 elements"
      ],
      "metadata": {
        "colab": {
          "base_uri": "https://localhost:8080/"
        },
        "id": "33ZDtXAFa1qR",
        "outputId": "a52b042e-1048-49fb-a289-322ae30abf50"
      },
      "execution_count": null,
      "outputs": [
        {
          "output_type": "execute_result",
          "data": {
            "text/plain": [
              "array([[ 0,  1,  2,  3,  4],\n",
              "       [ 5,  6,  7,  8,  9],\n",
              "       [10, 11, 12, 13, 14],\n",
              "       [15, 16, 17, 18, 19]])"
            ]
          },
          "metadata": {},
          "execution_count": 8
        }
      ]
    },
    {
      "cell_type": "code",
      "source": [
        "# Reshape from 1D to 3D\n",
        "D_3D = array_b.reshape(2,2,5)\n",
        "display(D_3D)\n",
        "\n",
        "print(\"Dimension:\",D_3D.shape) # Having 2 arrays that contain 2 array with 5 elements"
      ],
      "metadata": {
        "colab": {
          "base_uri": "https://localhost:8080/",
          "height": 121
        },
        "id": "iWUvFBmVbS_-",
        "outputId": "594d525a-21fa-45ae-ad5e-57a812853126"
      },
      "execution_count": null,
      "outputs": [
        {
          "output_type": "display_data",
          "data": {
            "text/plain": [
              "array([[[ 0,  1,  2,  3,  4],\n",
              "        [ 5,  6,  7,  8,  9]],\n",
              "\n",
              "       [[10, 11, 12, 13, 14],\n",
              "        [15, 16, 17, 18, 19]]])"
            ]
          },
          "metadata": {}
        },
        {
          "output_type": "stream",
          "name": "stdout",
          "text": [
            "Dimension: (2, 2, 5)\n"
          ]
        }
      ]
    },
    {
      "cell_type": "markdown",
      "source": [
        "### **Join & Split**"
      ],
      "metadata": {
        "id": "vG8uZlyA2QIC"
      }
    },
    {
      "cell_type": "code",
      "source": [
        "# concatenate -1D\n",
        "arr1 = np.array([1,2,3,4,5])\n",
        "arr2 = np.array([10,11,12,13,14])\n",
        "\n",
        "concat1 = np.concatenate((arr1,arr2), axis=0)\n",
        "concat1"
      ],
      "metadata": {
        "colab": {
          "base_uri": "https://localhost:8080/"
        },
        "id": "duA4UdzP2VbN",
        "outputId": "ad71f4b3-5344-4960-e61c-94d65110d6eb"
      },
      "execution_count": null,
      "outputs": [
        {
          "output_type": "execute_result",
          "data": {
            "text/plain": [
              "array([ 1,  2,  3,  4,  5, 10, 11, 12, 13, 14])"
            ]
          },
          "metadata": {},
          "execution_count": 40
        }
      ]
    },
    {
      "cell_type": "code",
      "source": [
        "# concatenate - 2D\n",
        "arr3 = np.array([[1,2,3],[4,5,6]])\n",
        "arr4 = np.array([[10,11,12],[13,14,15]])\n",
        "\n",
        "concat2 = np.concatenate((arr3,arr4), axis=1)\n",
        "concat2"
      ],
      "metadata": {
        "colab": {
          "base_uri": "https://localhost:8080/"
        },
        "id": "DmI6hidtD7hp",
        "outputId": "ff67a946-f8be-47ea-a479-effc26a3cd32"
      },
      "execution_count": null,
      "outputs": [
        {
          "output_type": "execute_result",
          "data": {
            "text/plain": [
              "array([[ 1,  2,  3, 10, 11, 12],\n",
              "       [ 4,  5,  6, 13, 14, 15]])"
            ]
          },
          "metadata": {},
          "execution_count": 42
        }
      ]
    },
    {
      "cell_type": "code",
      "source": [
        "# split\n",
        "split_1 = np.array_split(concat1,2,axis=0)\n",
        "\n",
        "display(split_1)\n",
        "\n",
        "print(\"First array:\", split_1[0])\n",
        "print(\"Second array:\", split_1[1])"
      ],
      "metadata": {
        "colab": {
          "base_uri": "https://localhost:8080/",
          "height": 69
        },
        "id": "XZ2m-EsmmIT2",
        "outputId": "4856c6c5-1c55-4eaa-c5ca-affad0af8bb0"
      },
      "execution_count": null,
      "outputs": [
        {
          "output_type": "display_data",
          "data": {
            "text/plain": [
              "[array([1, 2, 3, 4, 5]), array([10, 11, 12, 13, 14])]"
            ]
          },
          "metadata": {}
        },
        {
          "output_type": "stream",
          "name": "stdout",
          "text": [
            "First array: [1 2 3 4 5]\n",
            "Second array: [10 11 12 13 14]\n"
          ]
        }
      ]
    },
    {
      "cell_type": "code",
      "source": [
        "# split\n",
        "split_2 = np.array_split(concat2,2,axis=1)\n",
        "\n",
        "display(split_2)\n",
        "\n",
        "print(\"First array:\")\n",
        "print(split_2[0])\n",
        "\n",
        "print(\"Second array:\")\n",
        "print(split_2[1])"
      ],
      "metadata": {
        "colab": {
          "base_uri": "https://localhost:8080/",
          "height": 173
        },
        "id": "J_VqMlLumdQt",
        "outputId": "bce6b740-2374-4bc8-a6e4-5be32cfd9f6c"
      },
      "execution_count": null,
      "outputs": [
        {
          "output_type": "display_data",
          "data": {
            "text/plain": [
              "[array([[1, 2, 3],\n",
              "        [4, 5, 6]]), array([[10, 11, 12],\n",
              "        [13, 14, 15]])]"
            ]
          },
          "metadata": {}
        },
        {
          "output_type": "stream",
          "name": "stdout",
          "text": [
            "First array:\n",
            "[[1 2 3]\n",
            " [4 5 6]]\n",
            "Second array:\n",
            "[[10 11 12]\n",
            " [13 14 15]]\n"
          ]
        }
      ]
    }
  ]
}