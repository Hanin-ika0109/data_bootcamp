{
  "nbformat": 4,
  "nbformat_minor": 0,
  "metadata": {
    "colab": {
      "name": "DS 11 - Basic Python.ipynb",
      "provenance": [],
      "collapsed_sections": [
        "enOkQCisUp9v",
        "kotZ-qALm03h",
        "wsSX8q_fEPKI"
      ]
    },
    "kernelspec": {
      "name": "python3",
      "display_name": "Python 3"
    },
    "language_info": {
      "name": "python"
    }
  },
  "cells": [
    {
      "cell_type": "markdown",
      "source": [
        "# **Introduction to Python**\n",
        "\n",
        " created by : Hanindhiya Ika Septiana\n",
        "\n",
        "---\n",
        "\n",
        "**Contents:**\n",
        "  *   Basic Programming I: Condition\n",
        "      *   Equals: a == b\n",
        "      *   Not Equals: a != b\n",
        "      *   Less than: a < b\n",
        "      *   Less than or equal to: a <= b\n",
        "      *   Greater than: a > b\n",
        "      *   Greater than or equal to: a >= b\n",
        "  *   Basic Programming II : Iteration\n",
        "      1.   While \n",
        "      2.   For\n",
        "            *   number of times\n",
        "            *   items in elements\n",
        "  *   Basic Programming III : Array and Other Data Types\n",
        "  *   Basic Programming IV : Functions"
      ],
      "metadata": {
        "id": "k0HJcw3lrRkT"
      }
    },
    {
      "cell_type": "code",
      "execution_count": 1,
      "metadata": {
        "id": "Ttmob9UuRsgl",
        "colab": {
          "base_uri": "https://localhost:8080/"
        },
        "outputId": "6d42f1cc-9aea-4196-e41c-cc3a5b8e995b"
      },
      "outputs": [
        {
          "output_type": "stream",
          "name": "stdout",
          "text": [
            "Hanin\n"
          ]
        }
      ],
      "source": [
        "name = 'Hanin'\n",
        "print (name)\n",
        "# shift + enter \n",
        "# ctrl + enter "
      ]
    },
    {
      "cell_type": "code",
      "source": [
        "print (11 % 2)"
      ],
      "metadata": {
        "id": "pZmUgMFrtKsk",
        "colab": {
          "base_uri": "https://localhost:8080/"
        },
        "outputId": "5faa0ba8-da2a-480f-91b6-890b49f9553d"
      },
      "execution_count": 2,
      "outputs": [
        {
          "output_type": "stream",
          "name": "stdout",
          "text": [
            "1\n"
          ]
        }
      ]
    },
    {
      "cell_type": "code",
      "source": [
        "penjumlahan = 1 + 2 \n",
        "print (penjumlahan)"
      ],
      "metadata": {
        "id": "E3kvULa1tM9b",
        "colab": {
          "base_uri": "https://localhost:8080/"
        },
        "outputId": "d5f5623a-6d5e-4da3-d9f0-b15d14eab65e"
      },
      "execution_count": 3,
      "outputs": [
        {
          "output_type": "stream",
          "name": "stdout",
          "text": [
            "3\n"
          ]
        }
      ]
    },
    {
      "cell_type": "code",
      "source": [
        "complex_arith = 8 + 2 * 5 - 1 / 2\n",
        "# PEMDAS = Parenthesis, Exponent, Multiplication, Division, Addition and Substraction\n",
        "# 8 + 10 - 0.5 \n",
        "# 18 - 0.5 = 17.5 \n",
        "\n",
        "print (complex_arith)"
      ],
      "metadata": {
        "id": "3oSqJmiWwWr-",
        "colab": {
          "base_uri": "https://localhost:8080/"
        },
        "outputId": "c5496e79-3535-4a94-d58c-930844388fab"
      },
      "execution_count": 4,
      "outputs": [
        {
          "output_type": "stream",
          "name": "stdout",
          "text": [
            "17.5\n"
          ]
        }
      ]
    },
    {
      "cell_type": "markdown",
      "source": [
        "### Basic Programming I : Condition"
      ],
      "metadata": {
        "id": "5IT0kC1G_aqe"
      }
    },
    {
      "cell_type": "code",
      "source": [
        "# IF STATEMENT - SINGLE CONDITION\n",
        "cat_condition = 'hungry'\n",
        "# buat task dimana print value \"feed the cat\" ketika cat_condition berniat hungry\n",
        "\n",
        "if cat_condition == 'hungry':\n",
        "  print('feed the cat')"
      ],
      "metadata": {
        "colab": {
          "base_uri": "https://localhost:8080/"
        },
        "id": "eGez4dxo_vng",
        "outputId": "6884d048-c31c-4545-ca2a-733ff4e10f71"
      },
      "execution_count": 5,
      "outputs": [
        {
          "output_type": "stream",
          "name": "stdout",
          "text": [
            "feed the cat\n"
          ]
        }
      ]
    },
    {
      "cell_type": "code",
      "source": [
        "# IF STATEMENT - SINGLE CONDITION - BOOLEAN\n",
        "is_cat_hungry = True\n",
        "\n",
        "if is_cat_hungry:\n",
        "    print('feed the cat')"
      ],
      "metadata": {
        "colab": {
          "base_uri": "https://localhost:8080/"
        },
        "id": "apeFbSBcG8hM",
        "outputId": "deef2eee-af64-4577-ca65-44a0a81fe4ff"
      },
      "execution_count": 6,
      "outputs": [
        {
          "output_type": "stream",
          "name": "stdout",
          "text": [
            "feed the cat\n"
          ]
        }
      ]
    },
    {
      "cell_type": "code",
      "source": [
        "# IF STATEMENT - MULTIPLE CONDITION 1 (IF... ELIF... ELSE...)\n",
        "cat_condition = 'Want To Play'\n",
        "\n",
        "if cat_condition == 'hungry':\n",
        "  print('feed the cat')\n",
        "elif cat_condition == 'thristy':\n",
        "  print ('give water to cat')\n",
        "else:\n",
        "  print ('dont know what to do')"
      ],
      "metadata": {
        "colab": {
          "base_uri": "https://localhost:8080/"
        },
        "id": "gk52PEN1HNL6",
        "outputId": "eca72afe-38cc-4c78-9534-6eeb1d30da21"
      },
      "execution_count": 7,
      "outputs": [
        {
          "output_type": "stream",
          "name": "stdout",
          "text": [
            "dont know what to do\n"
          ]
        }
      ]
    },
    {
      "cell_type": "code",
      "source": [
        "# IF STATEMENT - MULTIPLE CONDITION 2 (IF... ELIF...) menggunakan AND (semua terpenuhi)\n",
        "# Simple Simsimi \n",
        "# Dalam Negeri/Luar Negeri\n",
        "\n",
        "tujuan = 'dalam negeri'\n",
        "akomodasi = 'pesawat'\n",
        "\n",
        "if tujuan == 'dalam negeri' and akomodasi == 'pesawat':\n",
        "  print ('Perkiraan budget maksimal adalah 1 juta rupiah')\n",
        "elif tujuan == 'dalam negeri' and akomodasi == 'mobil':\n",
        "  print ('Perkiraan budget maksimal adalah 800 ribu rupiah')"
      ],
      "metadata": {
        "id": "Odc_uFT2H9Di",
        "colab": {
          "base_uri": "https://localhost:8080/"
        },
        "outputId": "64405204-98f7-4362-df64-3d101c2c6a92"
      },
      "execution_count": 8,
      "outputs": [
        {
          "output_type": "stream",
          "name": "stdout",
          "text": [
            "Perkiraan budget maksimal adalah 1 juta rupiah\n"
          ]
        }
      ]
    },
    {
      "cell_type": "code",
      "source": [
        "# IF STATEMENT - MULTIPLE CONDITION 3 (IF... ELSE... ELIF...) menggunakan AND (semua terpenuhi)\n",
        "# Simple Simsimi \n",
        "# Dalam Negeri/Luar Negeri\n",
        "\n",
        "tujuan = 'dalam negeri'\n",
        "akomodasi = 'pesawat'\n",
        "total_peserta = 5 \n",
        "\n",
        "if tujuan == 'dalam negeri' and akomodasi == 'pesawat':\n",
        "  if total_peserta < 5:\n",
        "    print ('Perkiraan budget maksimal adalah 4 juta rupiah')\n",
        "  else:\n",
        "    print ('Perkiraan budget maksimal adalah 8 juta rupiah')\n",
        "elif tujuan == 'dalam negeri' and akomodasi == 'mobil':\n",
        "  print ('Perkiraan budget maksimal adalah 800 ribu rupiah')"
      ],
      "metadata": {
        "id": "soCvA98NLbq3",
        "colab": {
          "base_uri": "https://localhost:8080/"
        },
        "outputId": "5fd727af-b5d0-4b06-eb52-eaa34649e462"
      },
      "execution_count": 9,
      "outputs": [
        {
          "output_type": "stream",
          "name": "stdout",
          "text": [
            "Perkiraan budget maksimal adalah 8 juta rupiah\n"
          ]
        }
      ]
    },
    {
      "cell_type": "code",
      "source": [
        "# IF STATEMENT - MULTIPLE CONDITION 4 (IF... ELIF...) menggunakan AND (semua terpenuhi)\n",
        "# Simple Simsimi \n",
        "# Dalam Negeri/Luar Negeri\n",
        "\n",
        "tujuan = 'dalam negeri'\n",
        "akomodasi = 'pesawat'\n",
        "total_peserta = 5 \n",
        "\n",
        "if tujuan == 'dalam negeri' and akomodasi == 'pesawat' and total_peserta < 5:\n",
        "    print ('Perkiraan budget maksimal adalah 4 juta rupiah')\n",
        "elif tujuan == 'dalam negeri' and akomodasi == 'pesawat' and total_peserta >= 5:\n",
        "  print ('Perkiraan budget maksimal adalah 8 juta rupiah')"
      ],
      "metadata": {
        "colab": {
          "base_uri": "https://localhost:8080/"
        },
        "id": "wIroC-ltcoIv",
        "outputId": "83018e02-f57e-4bc0-b8e9-2ed5124b71b1"
      },
      "execution_count": 10,
      "outputs": [
        {
          "output_type": "stream",
          "name": "stdout",
          "text": [
            "Perkiraan budget maksimal adalah 8 juta rupiah\n"
          ]
        }
      ]
    },
    {
      "cell_type": "code",
      "source": [
        "# IF STATEMENT - MULTIPLE CONDITION 5 (IF... ELIF...) menggunakan OR (salah satu terpenuhi)\n",
        "# Simple Simsimi \n",
        "# Dalam Negeri/Luar Negeri\n",
        "\n",
        "tujuan = 'Luar Negeri'\n",
        "tujuan_negara = 'Belanda'\n",
        "akomodasi = 'Pesawat'\n",
        "total_peserta = 5 \n",
        "\n",
        "if tujuan == 'Luar Negeri' and akomodasi == 'Pesawat' and (tujuan_negara == 'Belanda' or tujuan_negara == 'Spanyol') and total_peserta < 5:\n",
        "  print ('Perkiraan budget maksimal adalah 10 juta rupiah')\n",
        "elif tujuan == 'Luar Negeri' and akomodasi == 'Pesawat' and (tujuan_negara == 'Belanda' or tujuan_negara == 'Spanyol') and total_peserta >= 5:\n",
        "  print ('Perkiraan budget maksimal adalah 80 juta rupiah')"
      ],
      "metadata": {
        "colab": {
          "base_uri": "https://localhost:8080/"
        },
        "id": "RcbbDjJ7EJR3",
        "outputId": "44db6dc5-5373-4eff-cbda-034f5fca09ba"
      },
      "execution_count": 11,
      "outputs": [
        {
          "output_type": "stream",
          "name": "stdout",
          "text": [
            "Perkiraan budget maksimal adalah 80 juta rupiah\n"
          ]
        }
      ]
    },
    {
      "cell_type": "code",
      "source": [
        "# IF STATEMENT - SHORTHAND IF... ELSE...\n",
        "input_bilangan = 3 \n",
        "print (\"Ini Bilangan Genap\") if input_bilangan % 2 == 0 else (\"Ini Bilangan Ganjil\")"
      ],
      "metadata": {
        "colab": {
          "base_uri": "https://localhost:8080/",
          "height": 35
        },
        "id": "y4TSLZKIJ74Z",
        "outputId": "2476b234-e1c5-4b87-e6c8-b6938055f6ee"
      },
      "execution_count": 12,
      "outputs": [
        {
          "output_type": "execute_result",
          "data": {
            "application/vnd.google.colaboratory.intrinsic+json": {
              "type": "string"
            },
            "text/plain": [
              "'Ini Bilangan Ganjil'"
            ]
          },
          "metadata": {},
          "execution_count": 12
        }
      ]
    },
    {
      "cell_type": "code",
      "source": [
        "# IF STATEMENT - IF... ELIF...\n",
        "x = 'a'\n",
        "if x == 'a':\n",
        "  print(1)\n",
        "elif x == 'b':\n",
        "  print (2)\n",
        "else:\n",
        "  print(3)"
      ],
      "metadata": {
        "colab": {
          "base_uri": "https://localhost:8080/"
        },
        "id": "cU7HItBeppcK",
        "outputId": "c95d947e-28a0-4cfc-9070-6860d645f5f6"
      },
      "execution_count": 13,
      "outputs": [
        {
          "output_type": "stream",
          "name": "stdout",
          "text": [
            "1\n"
          ]
        }
      ]
    },
    {
      "cell_type": "code",
      "source": [
        "# IF STATEMENT - NOT\n",
        "x = 'b'\n",
        "if x != 'a':\n",
        "  print ('Not A')"
      ],
      "metadata": {
        "colab": {
          "base_uri": "https://localhost:8080/"
        },
        "id": "WtINFu07roj1",
        "outputId": "b80816bb-248a-4b3f-fa64-7a1d19f480d4"
      },
      "execution_count": 14,
      "outputs": [
        {
          "output_type": "stream",
          "name": "stdout",
          "text": [
            "Not A\n"
          ]
        }
      ]
    },
    {
      "cell_type": "code",
      "source": [
        "# IF STATEMENT - NESTED IF \n",
        "\n",
        "x = 41\n",
        "if x > 10:\n",
        "  print(\"Above ten,\")\n",
        "  if x > 20:\n",
        "    print(\"and also above 20!\")\n",
        "  else:\n",
        "    print(\"but not above 20.\")"
      ],
      "metadata": {
        "id": "1ytNZiH1vx5E",
        "outputId": "f997271f-1d54-44d9-bf8b-481012b5f119",
        "colab": {
          "base_uri": "https://localhost:8080/"
        }
      },
      "execution_count": 15,
      "outputs": [
        {
          "output_type": "stream",
          "name": "stdout",
          "text": [
            "Above ten,\n",
            "and also above 20!\n"
          ]
        }
      ]
    },
    {
      "cell_type": "code",
      "source": [
        "# IF STATEMENT - IF... ELSE..\n",
        "nama_saya = 'Hanindhiya Ika Septiana'\n",
        "jenis_kelamin = 'Perempuan'\n",
        "\n",
        "if jenis_kelamin == 'Perempuan':\n",
        "  print('Sewaktu sekolah, saya menggunakan rok berwarna abu')\n",
        "else:\n",
        "  print('Sewaktu sekolah, saya menggunakan celana berwarna abu')"
      ],
      "metadata": {
        "colab": {
          "base_uri": "https://localhost:8080/"
        },
        "id": "SYhVp3qzIvBC",
        "outputId": "83e5a2e7-b409-4965-8121-57c9ee6865ef"
      },
      "execution_count": 16,
      "outputs": [
        {
          "output_type": "stream",
          "name": "stdout",
          "text": [
            "Sewaktu sekolah, saya menggunakan rok berwarna abu\n"
          ]
        }
      ]
    },
    {
      "cell_type": "markdown",
      "source": [
        "### Basic Programming II : Iteration"
      ],
      "metadata": {
        "id": "enOkQCisUp9v"
      }
    },
    {
      "cell_type": "code",
      "source": [
        "# FOR LOOP - Number of Times 1\n",
        "# for <variable> in range <start, end>\n",
        "for angka in range(0, 10): \n",
        "  print('Index ke', angka)"
      ],
      "metadata": {
        "colab": {
          "base_uri": "https://localhost:8080/"
        },
        "id": "onOA63b_ISJf",
        "outputId": "0f26c951-8aa6-47c2-bec3-9603743564bb"
      },
      "execution_count": 17,
      "outputs": [
        {
          "output_type": "stream",
          "name": "stdout",
          "text": [
            "Index ke 0\n",
            "Index ke 1\n",
            "Index ke 2\n",
            "Index ke 3\n",
            "Index ke 4\n",
            "Index ke 5\n",
            "Index ke 6\n",
            "Index ke 7\n",
            "Index ke 8\n",
            "Index ke 9\n"
          ]
        }
      ]
    },
    {
      "cell_type": "code",
      "source": [
        "# FOR LOOP - Number of Times 2\n",
        "for i in range (0,9): # dalam range 1 sampai dengan 9\n",
        "  if i % 2 != 0: # contoh 2 mod 2 = 0 / 3 mod 2 != 0 karena sisa 1 \n",
        "    print (i)\n",
        "  else:\n",
        "    print ('ini genap')\n",
        "    print ('index ke', i)"
      ],
      "metadata": {
        "colab": {
          "base_uri": "https://localhost:8080/"
        },
        "id": "vq3X1Bzp0R-U",
        "outputId": "7e035e3c-d6a1-44cf-ef08-688d9701101c"
      },
      "execution_count": 18,
      "outputs": [
        {
          "output_type": "stream",
          "name": "stdout",
          "text": [
            "ini genap\n",
            "index ke 0\n",
            "1\n",
            "ini genap\n",
            "index ke 2\n",
            "3\n",
            "ini genap\n",
            "index ke 4\n",
            "5\n",
            "ini genap\n",
            "index ke 6\n",
            "7\n",
            "ini genap\n",
            "index ke 8\n"
          ]
        }
      ]
    },
    {
      "cell_type": "code",
      "source": [
        "# QUIZ \n",
        "for i in range(0, 10):\n",
        "  if i == 10:\n",
        "    print ('10 adalah nomor punggung Lionel Messi')"
      ],
      "metadata": {
        "id": "9_2khk3iaOhX"
      },
      "execution_count": 19,
      "outputs": []
    },
    {
      "cell_type": "code",
      "source": [
        "# FOR LOOP - Items in Elements_1 (array : List, Tuple)\n",
        "nama_siswa = ['Krian', 'Bayu', 'Rony', 'Farhan']\n",
        "index = 0\n",
        "\n",
        "for variable in (nama_siswa):\n",
        "  index +=1\n",
        "  print ('Absen', index)\n",
        "  print ('Nama', variable)"
      ],
      "metadata": {
        "id": "nnzpfZAYjLsb",
        "colab": {
          "base_uri": "https://localhost:8080/"
        },
        "outputId": "ba8d1dcd-2e24-4953-eab6-7cccb5555a8d"
      },
      "execution_count": 20,
      "outputs": [
        {
          "output_type": "stream",
          "name": "stdout",
          "text": [
            "Absen 1\n",
            "Nama Krian\n",
            "Absen 2\n",
            "Nama Bayu\n",
            "Absen 3\n",
            "Nama Rony\n",
            "Absen 4\n",
            "Nama Farhan\n"
          ]
        }
      ]
    },
    {
      "cell_type": "code",
      "source": [
        "# FOR LOOP - Items in Elements_2 (array : Dictionary)\n",
        "data_list_siswa = [{'nama' : 'Krian',\n",
        "                   'absen' : '1'},\n",
        "                   {'nama' : 'Bayu',\n",
        "                   'absen' : '2'},\n",
        "                   {'nama' : 'Farhan',\n",
        "                    'absen' : '3'}]\n",
        "for list_siswa in data_list_siswa:\n",
        "  for key, value in (list_siswa).items():\n",
        "    print (key, value)"
      ],
      "metadata": {
        "colab": {
          "base_uri": "https://localhost:8080/"
        },
        "id": "g9eqUFQJMYV7",
        "outputId": "0bc3ccf1-88e1-43d6-d519-18d2c818ccd4"
      },
      "execution_count": 21,
      "outputs": [
        {
          "output_type": "stream",
          "name": "stdout",
          "text": [
            "nama Krian\n",
            "absen 1\n",
            "nama Bayu\n",
            "absen 2\n",
            "nama Farhan\n",
            "absen 3\n"
          ]
        }
      ]
    },
    {
      "cell_type": "code",
      "source": [
        "# FOR LOOP - Items in Elements_3 (array : Dictionary)\n",
        "data_list_siswa = [{'Nama' : 'Krian',\n",
        "                   'Absen' : '1'},\n",
        "                   {'Nama' : 'Bayu',\n",
        "                   'Absen' : '2'},\n",
        "                   {'Nama' : 'Farhan',\n",
        "                    'Absen' : '3'}]\n",
        "for list_siswa in data_list_siswa:\n",
        "  print ('Ini List:')\n",
        "  print ('Item dari List : ', list_siswa)\n",
        "  for key, value in (list_siswa).items():\n",
        "    print (key, value)\n",
        "  print (\"\\n\")"
      ],
      "metadata": {
        "colab": {
          "base_uri": "https://localhost:8080/"
        },
        "id": "QT_qjllFRQsQ",
        "outputId": "ce3d5bff-9315-43c1-c9e4-67b1bf25aff9"
      },
      "execution_count": 22,
      "outputs": [
        {
          "output_type": "stream",
          "name": "stdout",
          "text": [
            "Ini List:\n",
            "Item dari List :  {'Nama': 'Krian', 'Absen': '1'}\n",
            "Nama Krian\n",
            "Absen 1\n",
            "\n",
            "\n",
            "Ini List:\n",
            "Item dari List :  {'Nama': 'Bayu', 'Absen': '2'}\n",
            "Nama Bayu\n",
            "Absen 2\n",
            "\n",
            "\n",
            "Ini List:\n",
            "Item dari List :  {'Nama': 'Farhan', 'Absen': '3'}\n",
            "Nama Farhan\n",
            "Absen 3\n",
            "\n",
            "\n"
          ]
        }
      ]
    },
    {
      "cell_type": "code",
      "source": [
        "# WHILE LOOP - Number of Times_1\n",
        "index = 0\n",
        "while index < 10:\n",
        "  index += 1\n",
        "  print (index)"
      ],
      "metadata": {
        "colab": {
          "base_uri": "https://localhost:8080/"
        },
        "id": "Xm_WfzDKSPoQ",
        "outputId": "7251d49d-4a8c-40f1-a62b-adaf3aa709fb"
      },
      "execution_count": 23,
      "outputs": [
        {
          "output_type": "stream",
          "name": "stdout",
          "text": [
            "1\n",
            "2\n",
            "3\n",
            "4\n",
            "5\n",
            "6\n",
            "7\n",
            "8\n",
            "9\n",
            "10\n"
          ]
        }
      ]
    },
    {
      "cell_type": "code",
      "source": [
        "# WHILE LOOP - Number of Times_String\n",
        "\n",
        "i = 1\n",
        "while i <= 5:\n",
        "  print(\"Hello World\")\n",
        "  i += 1"
      ],
      "metadata": {
        "id": "txT8fF9oxpzX",
        "colab": {
          "base_uri": "https://localhost:8080/"
        },
        "outputId": "b498b0f5-02d5-47b6-d1f9-363f18fbd628"
      },
      "execution_count": 24,
      "outputs": [
        {
          "output_type": "stream",
          "name": "stdout",
          "text": [
            "Hello World\n",
            "Hello World\n",
            "Hello World\n",
            "Hello World\n",
            "Hello World\n"
          ]
        }
      ]
    },
    {
      "cell_type": "code",
      "source": [
        "# WHILE LOOP - Number of Times_2\n",
        "is_number_equal_to_10 = False\n",
        "index = 0\n",
        "while is_number_equal_to_10 == False:\n",
        "  index += 1\n",
        "  print (index)\n",
        "  if index == 10:\n",
        "    is_number_equal_to_10 = True"
      ],
      "metadata": {
        "colab": {
          "base_uri": "https://localhost:8080/"
        },
        "id": "Dh4mebWltJM2",
        "outputId": "1970cf47-0d6e-4ed9-ace1-44154cd46c14"
      },
      "execution_count": 25,
      "outputs": [
        {
          "output_type": "stream",
          "name": "stdout",
          "text": [
            "1\n",
            "2\n",
            "3\n",
            "4\n",
            "5\n",
            "6\n",
            "7\n",
            "8\n",
            "9\n",
            "10\n"
          ]
        }
      ]
    },
    {
      "cell_type": "code",
      "source": [
        "# FOR LOOP - Menampilkan Bilangan Ganjil di antara 1 - 20\n",
        "for angka in range (0, 20):\n",
        "  if angka % 2 != 0:\n",
        "    print (angka)"
      ],
      "metadata": {
        "colab": {
          "base_uri": "https://localhost:8080/"
        },
        "id": "5eDmNyWcuIQO",
        "outputId": "93cc610e-2950-4732-8d36-a86463f40282"
      },
      "execution_count": 26,
      "outputs": [
        {
          "output_type": "stream",
          "name": "stdout",
          "text": [
            "1\n",
            "3\n",
            "5\n",
            "7\n",
            "9\n",
            "11\n",
            "13\n",
            "15\n",
            "17\n",
            "19\n"
          ]
        }
      ]
    },
    {
      "cell_type": "code",
      "source": [
        "# WHILE LOOP - Menampilkan Bilangan Fibbonaci < 50 yang juga merupakan Bilangan Ganjil [1-50]\n",
        "bilangan_0 = 1\n",
        "bilangan_1 = 0\n",
        "bilangan_penampung = 1\n",
        "\n",
        "while bilangan_penampung <= 50:\n",
        "  bilangan_penampung = bilangan_0 + bilangan_1\n",
        "  bilangan_0 = bilangan_1\n",
        "  bilangan_1 = bilangan_penampung\n",
        "  if bilangan_0 % 2 != 0:\n",
        "    print (bilangan_0)"
      ],
      "metadata": {
        "colab": {
          "base_uri": "https://localhost:8080/"
        },
        "id": "k-2KWsC-yLtf",
        "outputId": "c08e6710-3f14-446e-e860-a231813afd7e"
      },
      "execution_count": 27,
      "outputs": [
        {
          "output_type": "stream",
          "name": "stdout",
          "text": [
            "1\n",
            "1\n",
            "3\n",
            "5\n",
            "13\n",
            "21\n"
          ]
        }
      ]
    },
    {
      "cell_type": "code",
      "source": [
        "# WHILE LOOP - Menampilkan Bilangan Fibbonaci di antara 1-100\n",
        "bilangan_0 = 0\n",
        "bilangan_1 = 1\n",
        "bilangan_penampung = 0\n",
        "\n",
        "while bilangan_penampung <= 100:\n",
        "  bilangan_penampung = bilangan_0 + bilangan_1\n",
        "  bilangan_0 = bilangan_1\n",
        "  bilangan_1 = bilangan_penampung\n",
        "  print (bilangan_0)"
      ],
      "metadata": {
        "colab": {
          "base_uri": "https://localhost:8080/"
        },
        "id": "7MG_vC_z4XZ3",
        "outputId": "275c802d-1e51-4be3-be17-ab5747ac3efc"
      },
      "execution_count": 28,
      "outputs": [
        {
          "output_type": "stream",
          "name": "stdout",
          "text": [
            "1\n",
            "1\n",
            "2\n",
            "3\n",
            "5\n",
            "8\n",
            "13\n",
            "21\n",
            "34\n",
            "55\n",
            "89\n"
          ]
        }
      ]
    },
    {
      "cell_type": "code",
      "source": [
        "# WHILE LOOP - Menampilkan Bilangan Prima di range 1 - 50\n",
        "# looping dari 1 sampai 50\n",
        "for a in range(1, 50):\n",
        "  bil_prima = 0 \n",
        "  # looping lagi dari 1 sampai 50 untuk pembaginya\n",
        "  for b in range(1, 50):\n",
        "    # cek apakah sisa bagi dari a / b = 0 ?\n",
        "    if a % b == 0:\n",
        "      bil_prima += 1\n",
        "  \n",
        "  if bil_prima == 2:\n",
        "    print(a)"
      ],
      "metadata": {
        "colab": {
          "base_uri": "https://localhost:8080/"
        },
        "id": "Br3_Akq-NDLp",
        "outputId": "db3ddd13-daa6-4d1b-bce5-53c2aec7f04c"
      },
      "execution_count": 29,
      "outputs": [
        {
          "output_type": "stream",
          "name": "stdout",
          "text": [
            "2\n",
            "3\n",
            "5\n",
            "7\n",
            "11\n",
            "13\n",
            "17\n",
            "19\n",
            "23\n",
            "29\n",
            "31\n",
            "37\n",
            "41\n",
            "43\n",
            "47\n"
          ]
        }
      ]
    },
    {
      "cell_type": "markdown",
      "source": [
        "### Basic Programming III : Array dan Other Data Types"
      ],
      "metadata": {
        "id": "kotZ-qALm03h"
      }
    },
    {
      "cell_type": "code",
      "source": [
        "# LIST MANIPULATION - APPEND() 1 -  Menambah Value Baru pada Akhir List\n",
        "list_makanan = ['Gado-gado', 'Ayam Goreng', 'Rendang'] \n",
        "list_makanan.append('Ketoprak') \n",
        "print(list_makanan)"
      ],
      "metadata": {
        "colab": {
          "base_uri": "https://localhost:8080/"
        },
        "id": "iRjSh111nGwM",
        "outputId": "f03791a1-abb5-47d3-f788-6b8083ef3735"
      },
      "execution_count": 30,
      "outputs": [
        {
          "output_type": "stream",
          "name": "stdout",
          "text": [
            "['Gado-gado', 'Ayam Goreng', 'Rendang', 'Ketoprak']\n"
          ]
        }
      ]
    },
    {
      "cell_type": "code",
      "source": [
        "# LIST MANIPULATION - APPEND() 2 - Menambah value baru pada akhir list\n",
        "list_bilangan_ganjil = [1, 3, 5, 7, 9]\n",
        "list_bilangan_ganjil.append(11)\n",
        "print(list_bilangan_ganjil)"
      ],
      "metadata": {
        "id": "_kRwiNKBDgeF",
        "colab": {
          "base_uri": "https://localhost:8080/"
        },
        "outputId": "20d78278-16a4-48d9-b3d9-8ac39ec9f9c4"
      },
      "execution_count": 31,
      "outputs": [
        {
          "output_type": "stream",
          "name": "stdout",
          "text": [
            "[1, 3, 5, 7, 9, 11]\n"
          ]
        }
      ]
    },
    {
      "cell_type": "code",
      "source": [
        "# LIST MANIPULATION - CLEAR() 1 - Menghapus seluruh elemen dalam sebuah list\n",
        "list_makanan = ['Gado-gado', 'Ayam Goreng', 'Rendang'] \n",
        "list_makanan.clear() \n",
        "print(list_makanan)"
      ],
      "metadata": {
        "colab": {
          "base_uri": "https://localhost:8080/"
        },
        "id": "JiP61m9cyA4C",
        "outputId": "ef5da57b-672f-4f8d-b8b6-447c57d38d46"
      },
      "execution_count": 32,
      "outputs": [
        {
          "output_type": "stream",
          "name": "stdout",
          "text": [
            "[]\n"
          ]
        }
      ]
    },
    {
      "cell_type": "code",
      "source": [
        "# LIST MANIPULATION - CLEAR() 2 - Menghapus seluruh elemen dalam sebuah list\n",
        "list_bilangan_ganjil = [1, 3, 5, 7, 9]\n",
        "list_bilangan_ganjil.clear()\n",
        "print(list_bilangan_ganjil)"
      ],
      "metadata": {
        "colab": {
          "base_uri": "https://localhost:8080/"
        },
        "id": "yUPe7tLv8sQU",
        "outputId": "017ee719-b6fc-45d3-fa65-e3c1eeedc000"
      },
      "execution_count": 33,
      "outputs": [
        {
          "output_type": "stream",
          "name": "stdout",
          "text": [
            "[]\n"
          ]
        }
      ]
    },
    {
      "cell_type": "code",
      "source": [
        "# LIST MANIPULATION - COPY() - Mengembalikan copy dari setiap elemen dalam list\n",
        "list_makanan1 = ['Gado-gado', 'Ayam Goreng', 'Rendang']\n",
        "list_makanan2 = list_makanan1.copy()\n",
        "list_makanan3 = list_makanan1\n",
        "list_makanan2.append('Opor')\n",
        "list_makanan3.append('Ketoprak')\n",
        "print(list_makanan1)\n",
        "print(list_makanan2)"
      ],
      "metadata": {
        "colab": {
          "base_uri": "https://localhost:8080/"
        },
        "id": "KyxLSkv5Aawf",
        "outputId": "67c41f1e-e2ee-46d9-d582-65670803d14a"
      },
      "execution_count": 34,
      "outputs": [
        {
          "output_type": "stream",
          "name": "stdout",
          "text": [
            "['Gado-gado', 'Ayam Goreng', 'Rendang', 'Ketoprak']\n",
            "['Gado-gado', 'Ayam Goreng', 'Rendang', 'Opor']\n"
          ]
        }
      ]
    },
    {
      "cell_type": "code",
      "source": [
        "# LIST MANIPULATION - COUNT() - Mengembalikan copy dari setiap elemen dalam list\n",
        "list_score = ['Budi', 'Sud', 'Budi', 'Budi', 'Budi', 'Sud', 'Sud']\n",
        "score_budi = list_score.count('Budi')\n",
        "score_sud = list_score.count('Sud')\n",
        "print('Budi =',score_budi) \n",
        "print('Sud =',score_sud)"
      ],
      "metadata": {
        "colab": {
          "base_uri": "https://localhost:8080/"
        },
        "id": "VuyN6vUZBare",
        "outputId": "6c008b22-6090-47d1-9c9d-8814f56a7480"
      },
      "execution_count": 35,
      "outputs": [
        {
          "output_type": "stream",
          "name": "stdout",
          "text": [
            "Budi = 4\n",
            "Sud = 3\n"
          ]
        }
      ]
    },
    {
      "cell_type": "code",
      "source": [
        "# LIST MANIPULATION - EXTEND() - Menggabungkan dua buah list seperti penggunaan operator + untuk list\n",
        "list_menu = ['Gado-gado', 'Ayam Goreng', 'Rendang']\n",
        "list_minuman = ['Es Teh', 'Es Jeruk', 'Es Campur']\n",
        "list_menu.extend(list_minuman)\n",
        "print(list_menu)"
      ],
      "metadata": {
        "colab": {
          "base_uri": "https://localhost:8080/"
        },
        "id": "843sF5N-CUPp",
        "outputId": "4d499d5c-c6e3-4c2a-dc09-83efe11fc5a2"
      },
      "execution_count": 36,
      "outputs": [
        {
          "output_type": "stream",
          "name": "stdout",
          "text": [
            "['Gado-gado', 'Ayam Goreng', 'Rendang', 'Es Teh', 'Es Jeruk', 'Es Campur']\n"
          ]
        }
      ]
    },
    {
      "cell_type": "code",
      "source": [
        "# LIST MANIPULATION - INDEX() - Mengembalikan indeks dari elemen pertama yang ditemukan dari awal sebuah list\n",
        "list_score = ['Budi','Sud','Budi','Budi','Budi','Sud','Sud']\n",
        "score_pertama_sud = list_score.index('Sud')\n",
        "score_pertama_budi = list_score.index('Budi')\n",
        "print(score_pertama_sud)\n",
        "print(score_pertama_budi)"
      ],
      "metadata": {
        "colab": {
          "base_uri": "https://localhost:8080/"
        },
        "id": "aYfuHTD-Dwyc",
        "outputId": "dbed1e79-fa70-4218-869d-265c7b74ef5e"
      },
      "execution_count": 37,
      "outputs": [
        {
          "output_type": "stream",
          "name": "stdout",
          "text": [
            "1\n",
            "0\n"
          ]
        }
      ]
    },
    {
      "cell_type": "code",
      "source": [
        "# LIST MANIPULATION - INDEX() - Mengembalikan indeks dari elemen pertama yang ditemukan dari awal sebuah list\n",
        "list_score = ['Budi','Sud','Budi','Budi','Sud']\n",
        "list_score.insert(3, 'Sud')\n",
        "print(list_score)"
      ],
      "metadata": {
        "colab": {
          "base_uri": "https://localhost:8080/"
        },
        "id": "irLgeQKIEKXV",
        "outputId": "64a7ab04-5a70-46a5-91fe-8decd6f67813"
      },
      "execution_count": 38,
      "outputs": [
        {
          "output_type": "stream",
          "name": "stdout",
          "text": [
            "['Budi', 'Sud', 'Budi', 'Sud', 'Budi', 'Sud']\n"
          ]
        }
      ]
    },
    {
      "cell_type": "code",
      "source": [
        "# LIST MANIPULATION - POP() 1 - Menghilangkan elemen pada posisi tertentu\n",
        "list_menu = ['Gado-gado', 'Ayam Goreng', 'Rendang']\n",
        "list_menu.pop(1)\n",
        "print(list_menu)"
      ],
      "metadata": {
        "colab": {
          "base_uri": "https://localhost:8080/"
        },
        "id": "axVpY7799WeL",
        "outputId": "f3a40a8c-f263-46b9-916d-7cdcf66290b5"
      },
      "execution_count": 39,
      "outputs": [
        {
          "output_type": "stream",
          "name": "stdout",
          "text": [
            "['Gado-gado', 'Rendang']\n"
          ]
        }
      ]
    },
    {
      "cell_type": "code",
      "source": [
        "# LIST MANIPULATION - POP() 2 - Menghilangkan elemen pada posisi tertentu\n",
        "list_bilangan_ganjil = [1, 3, 5, 7, 9]\n",
        "list_bilangan_ganjil.pop(2)\n",
        "print(list_bilangan_ganjil)"
      ],
      "metadata": {
        "colab": {
          "base_uri": "https://localhost:8080/"
        },
        "id": "EHfeE1bG9pRO",
        "outputId": "8d1355b4-cc0f-4170-ecec-0e2d1f906f77"
      },
      "execution_count": 40,
      "outputs": [
        {
          "output_type": "stream",
          "name": "stdout",
          "text": [
            "[1, 3, 7, 9]\n"
          ]
        }
      ]
    },
    {
      "cell_type": "code",
      "source": [
        "# LIST MANIPULATION - REMOVE() - Menghilangkan elemen dengan nilai tertentu\n",
        "list_menu = ['Gado-gado', 'Ayam Goreng', 'Rendang', 'Ketoprak']\n",
        "list_menu.remove('Rendang')\n",
        "print(list_menu)"
      ],
      "metadata": {
        "colab": {
          "base_uri": "https://localhost:8080/"
        },
        "id": "9AtaJPiEEjVK",
        "outputId": "0934ad53-00fc-4ee4-d159-202f13df403b"
      },
      "execution_count": 41,
      "outputs": [
        {
          "output_type": "stream",
          "name": "stdout",
          "text": [
            "['Gado-gado', 'Ayam Goreng', 'Ketoprak']\n"
          ]
        }
      ]
    },
    {
      "cell_type": "code",
      "source": [
        "# LIST MANIPULATION - REVERSE() - Membalik urutan elemen dari sebuah list\n",
        "list_menu = ['Gado-gado', 'Ayam Goreng', 'Rendang', 'Ketoprak']\n",
        "list_menu.reverse()\n",
        "print(list_menu)"
      ],
      "metadata": {
        "colab": {
          "base_uri": "https://localhost:8080/"
        },
        "id": "5t0uZLlhE7W8",
        "outputId": "ea0c2e5f-b4b8-4491-c085-d80ead170bf0"
      },
      "execution_count": 42,
      "outputs": [
        {
          "output_type": "stream",
          "name": "stdout",
          "text": [
            "['Ketoprak', 'Rendang', 'Ayam Goreng', 'Gado-gado']\n"
          ]
        }
      ]
    },
    {
      "cell_type": "code",
      "source": [
        "# LIST MANIPULATION - SORT() - Mengurutkan elemen pada sebuah list, secara default dengan urutan dari kecil ke besar (ascending)\n",
        "list_menu = ['Gado-gado', 'Ayam Goreng', 'Rendang', 'Ketoprak']\n",
        "list_menu.sort() # Default: Ascending\n",
        "print(list_menu) \n",
        "list_menu.sort(reverse=True)# Descending\n",
        "print(list_menu)"
      ],
      "metadata": {
        "colab": {
          "base_uri": "https://localhost:8080/"
        },
        "id": "W3ltXAQ4FNTH",
        "outputId": "24ccaba6-e6af-4bf4-8ee2-8a757cf98825"
      },
      "execution_count": 43,
      "outputs": [
        {
          "output_type": "stream",
          "name": "stdout",
          "text": [
            "['Ayam Goreng', 'Gado-gado', 'Ketoprak', 'Rendang']\n",
            "['Rendang', 'Ketoprak', 'Gado-gado', 'Ayam Goreng']\n"
          ]
        }
      ]
    },
    {
      "cell_type": "code",
      "source": [
        "# LIST MANIPULATION - LEN() - Menentukan panjang sebuah list\n",
        "tes_list = [1, 2, 3, 4, 5]\n",
        "print(tes_list, 'panjangnya adalah:', len(tes_list))"
      ],
      "metadata": {
        "colab": {
          "base_uri": "https://localhost:8080/"
        },
        "id": "MbXPIudGuvg8",
        "outputId": "6f6d763f-61e4-4f18-ab8e-954bb8091b41"
      },
      "execution_count": 44,
      "outputs": [
        {
          "output_type": "stream",
          "name": "stdout",
          "text": [
            "[1, 2, 3, 4, 5] panjangnya adalah: 5\n"
          ]
        }
      ]
    },
    {
      "cell_type": "code",
      "source": [
        "# LIST MANIPULATION - APPEND()\n",
        "list_bilangan_ganjil =[]\n",
        "for i in range(0,50):\n",
        "  if i % 2 != 0:\n",
        "    list_bilangan_ganjil.append(i)\n",
        "print(list_bilangan_ganjil)"
      ],
      "metadata": {
        "colab": {
          "base_uri": "https://localhost:8080/"
        },
        "id": "RQJiKgc0G0Eo",
        "outputId": "739e5ffc-8bf1-42a7-cb4a-96a952cec165"
      },
      "execution_count": 45,
      "outputs": [
        {
          "output_type": "stream",
          "name": "stdout",
          "text": [
            "[1, 3, 5, 7, 9, 11, 13, 15, 17, 19, 21, 23, 25, 27, 29, 31, 33, 35, 37, 39, 41, 43, 45, 47, 49]\n"
          ]
        }
      ]
    },
    {
      "cell_type": "code",
      "source": [
        "# LIST MANIPULATION - APPEND()\n",
        "# Menampilkan Bilangan Fibbonaci yang < 50 dan juga Bilangan Ganjil [1-50]\n",
        "a = 0\n",
        "b = 1\n",
        "c = 0\n",
        "list_fibbonaci_odd_below_50 = []\n",
        "while c <= 50:\n",
        "  c = a + b \n",
        "  a = b \n",
        "  b = c  \n",
        "  if a in list_bilangan_ganjil:\n",
        "    list_fibbonaci_odd_below_50.append(a)\n",
        "    print(a)"
      ],
      "metadata": {
        "colab": {
          "base_uri": "https://localhost:8080/"
        },
        "id": "gDe0WbMgDnWx",
        "outputId": "7cea61af-c326-4a62-96d9-1f86a569701b"
      },
      "execution_count": 46,
      "outputs": [
        {
          "output_type": "stream",
          "name": "stdout",
          "text": [
            "1\n",
            "1\n",
            "3\n",
            "5\n",
            "13\n",
            "21\n"
          ]
        }
      ]
    },
    {
      "cell_type": "code",
      "source": [
        "list_bilangan_prima = []\n",
        "counter_prima = 0\n",
        "for i in range(1,20):\n",
        "  for j in range(1, i+1):\n",
        "    if i % j == 0:\n",
        "      counter_prima += 1\n",
        "  # print(i, 'counter_prima: ', counter_prima)\n",
        "  if counter_prima == 2:\n",
        "    # print(True)\n",
        "    list_bilangan_prima.append(i)\n",
        "  counter_prima = 0"
      ],
      "metadata": {
        "id": "YCzzCF3fEAMw"
      },
      "execution_count": 47,
      "outputs": []
    },
    {
      "cell_type": "markdown",
      "source": [
        "### Basic Programming IV Functions"
      ],
      "metadata": {
        "id": "wLEIC5WDEmZv"
      }
    },
    {
      "cell_type": "code",
      "source": [
        "# Definisikan fungsi \n",
        "def contoh_fungsi(): \n",
        "  print(\"Halo Dunia\") \n",
        "  print(\"Aku sedang belajar bahasa Python\")\n",
        "   \n",
        "# Panggil fungsi yang telah didefinisikan contoh_fungsi()\n",
        "contoh_fungsi()"
      ],
      "metadata": {
        "colab": {
          "base_uri": "https://localhost:8080/"
        },
        "id": "R6DDctfEExoV",
        "outputId": "43c481a5-9c64-491b-b080-16dd97ad99c2"
      },
      "execution_count": 48,
      "outputs": [
        {
          "output_type": "stream",
          "name": "stdout",
          "text": [
            "Halo Dunia\n",
            "Aku sedang belajar bahasa Python\n"
          ]
        }
      ]
    },
    {
      "cell_type": "code",
      "source": [
        "# Definsikan fungsi \n",
        "def fungsi_dengan_argumen(nama_depan, nama_belakang): \n",
        "  print(nama_depan+\" \"+nama_belakang) \n",
        "\n",
        "# Panggil fungsi dengan memasukkan argumen \n",
        "# nama_depan yaitu \"John\" dan nama_belakang \"Doe\" \n",
        "fungsi_dengan_argumen (\"John\",\"Doe\")"
      ],
      "metadata": {
        "colab": {
          "base_uri": "https://localhost:8080/"
        },
        "id": "rRaua9v3HX-G",
        "outputId": "16fa2db3-1ad0-493f-9fc5-a70fe13d51ef"
      },
      "execution_count": 49,
      "outputs": [
        {
          "output_type": "stream",
          "name": "stdout",
          "text": [
            "John Doe\n"
          ]
        }
      ]
    },
    {
      "cell_type": "code",
      "source": [
        "# Definsikan fungsi \n",
        "def square(value):\n",
        "  new_value = value ** 2\n",
        "  print(new_value)\n",
        "\n",
        "# Panggil fungsi dengan memasukkan square \n",
        "square(4)"
      ],
      "metadata": {
        "colab": {
          "base_uri": "https://localhost:8080/"
        },
        "id": "brIU8EIcKGes",
        "outputId": "0675a092-3391-4ff9-dc3f-350e245a9026"
      },
      "execution_count": 50,
      "outputs": [
        {
          "output_type": "stream",
          "name": "stdout",
          "text": [
            "16\n"
          ]
        }
      ]
    },
    {
      "cell_type": "code",
      "source": [
        "# Mengecek apakah bilangan dari input merupakan bilangan ganjil/genap\n",
        "# 2 source, mysql / postgresql (menggunakan manual)\n",
        "\n",
        "# Proses 1\n",
        "input_dari_mysql = 10\n",
        "if input_dari_mysql % 2 != 0:\n",
        "  print('Ya, bilangan input adalah ganjil')\n",
        "else:\n",
        "  print('Bukan, bilangan input adalah genap')\n",
        "\n",
        "#Proses 2\n",
        "input_dari_postgresql = 11\n",
        "if input_dari_postgresql % 2 != 0:\n",
        "  print('Ya, bilangan input adalah ganjil')\n",
        "else:\n",
        "  print('Bukan, bilangan input adalah genap')"
      ],
      "metadata": {
        "colab": {
          "base_uri": "https://localhost:8080/"
        },
        "id": "Cxw8lO4VNs9s",
        "outputId": "c9d5dfbe-baf9-414f-c3ea-8a3a08fd3f8b"
      },
      "execution_count": 51,
      "outputs": [
        {
          "output_type": "stream",
          "name": "stdout",
          "text": [
            "Bukan, bilangan input adalah genap\n",
            "Ya, bilangan input adalah ganjil\n"
          ]
        }
      ]
    },
    {
      "cell_type": "code",
      "source": [
        "# Purpose \n",
        "# Focus on specific task, prevent re -invent the wheel / code can re-usable\n",
        "\n",
        "# Mengecek apakah bilangan dari input merupakan bilangan ganjil/genap\n",
        "# 2 source, mysql / postgresql (menggunakan functions)\n",
        "\n",
        "# Definsikan fungsi\n",
        "def cek_ganjil(input_bilangan):\n",
        "  if input_bilangan % 2 != 0:\n",
        "    print('Ya, bilangan input adalah ganjil')\n",
        "  else:\n",
        "    print('Bukan, bilangan input adalah genap')\n",
        "\n",
        "input_bilangan_mysql = 12\n",
        "input_bilangan_postgresql = 13\n",
        "\n",
        "cek_ganjil(input_bilangan_mysql)\n",
        "cek_ganjil(input_bilangan_postgresql)"
      ],
      "metadata": {
        "colab": {
          "base_uri": "https://localhost:8080/"
        },
        "id": "STdSoTlUPWcS",
        "outputId": "c3713446-fc4c-4505-8e24-902fa56ebb74"
      },
      "execution_count": 52,
      "outputs": [
        {
          "output_type": "stream",
          "name": "stdout",
          "text": [
            "Bukan, bilangan input adalah genap\n",
            "Ya, bilangan input adalah ganjil\n"
          ]
        }
      ]
    },
    {
      "cell_type": "code",
      "source": [
        "# Dua buah data yang tersimpan dalam tipe list \n",
        "data1 = [70, 70, 70, 100, 100, 100, 120, 120, 150, 150] \n",
        "data2 = [50, 60, 60, 50, 70, 70, 100, 80, 100, 90] \n",
        "\n",
        "# Definisikan fungsi hitung_rata_rata \n",
        "def hitung_rata_rata(data): \n",
        "  jumlah = 0 \n",
        "  for item in data: \n",
        "    jumlah += item \n",
        "    rata_rata = jumlah/len (data) \n",
        "    return rata_rata\n",
        " \n",
        "# Hitung nilai rata-rata dari kedua data yang dimiliki \n",
        "print('Rata-rata data1:') \n",
        "print(hitung_rata_rata(data1)) \n",
        "print('Rata-rata data2:') \n",
        "print(hitung_rata_rata(data2))"
      ],
      "metadata": {
        "colab": {
          "base_uri": "https://localhost:8080/"
        },
        "id": "YHPwEoSoRDO0",
        "outputId": "afe3a746-32fd-4a4b-88db-8d7e4f6f1069"
      },
      "execution_count": 53,
      "outputs": [
        {
          "output_type": "stream",
          "name": "stdout",
          "text": [
            "Rata-rata data1:\n",
            "7.0\n",
            "Rata-rata data2:\n",
            "5.0\n"
          ]
        }
      ]
    },
    {
      "cell_type": "code",
      "source": [
        "# Menghitung luas dan keliling persegi menggunakan FUNCTION\n",
        "# Tujuan dari function ini adalah untuk return value luas pesergi panjang\n",
        "# dan return value keliling persegi panjang\n",
        "def describe_persegi_panjang(panjang, lebar):\n",
        "  luas_persegi = panjang * lebar\n",
        "  kel_persegi = 2 * (panjang + lebar)\n",
        "  return luas_persegi, kel_persegi\n",
        "\n",
        "luas_persegi, kel_persegi = describe_persegi_panjang(10,10)\n",
        "\n",
        "# Hitung nilai luas dan keliling dari persegi\n",
        "print('Hasil dari luas persegi:' , luas_persegi) \n",
        "print('Hasil dari keliling persegi:', kel_persegi)                                                    "
      ],
      "metadata": {
        "id": "cNo7TpScScaK",
        "colab": {
          "base_uri": "https://localhost:8080/"
        },
        "outputId": "01e40f86-17a2-48f9-d71e-f5843ab59347"
      },
      "execution_count": 54,
      "outputs": [
        {
          "output_type": "stream",
          "name": "stdout",
          "text": [
            "Hasil dari luas persegi: 100\n",
            "Hasil dari keliling persegi: 40\n"
          ]
        }
      ]
    },
    {
      "cell_type": "code",
      "source": [
        "# Menghitung luas lingkaran menggunakan FUNCTION\n",
        "def luas_lingkaran(phi, jari_jari):\n",
        "  return phi * jari_jari * jari_jari\n",
        "\n",
        "hasil_lingkaran = luas_lingkaran(3.14,20)\n",
        "print('Hasil dari luas lingkaran:', hasil_lingkaran)"
      ],
      "metadata": {
        "colab": {
          "base_uri": "https://localhost:8080/"
        },
        "id": "LPipmZT7TDDh",
        "outputId": "c54a8d96-445e-4c90-ad59-b9dd97b3bcc8"
      },
      "execution_count": 55,
      "outputs": [
        {
          "output_type": "stream",
          "name": "stdout",
          "text": [
            "Hasil dari luas lingkaran: 1256.0\n"
          ]
        }
      ]
    },
    {
      "cell_type": "code",
      "source": [
        "# LAMBDA FUNCTION 1\n",
        "# lambda arguments : expression\n",
        "x = lambda a, b: a * b\n",
        "print(x(5, 6))"
      ],
      "metadata": {
        "colab": {
          "base_uri": "https://localhost:8080/"
        },
        "id": "_UHlJxmjWJKX",
        "outputId": "2cd60f3c-5621-4859-8713-87f9fb33cab1"
      },
      "execution_count": 56,
      "outputs": [
        {
          "output_type": "stream",
          "name": "stdout",
          "text": [
            "30\n"
          ]
        }
      ]
    },
    {
      "cell_type": "code",
      "source": [
        "# LAMBDA FUNCTION 2 \n",
        "# lambda arguments : expression\n",
        "phi = 3.14\n",
        "jari_jari = 20\n",
        "luas_lingkaran = lambda phi, jari_jari: phi * jari_jari * jari_jari\n",
        "print(luas_lingkaran(phi,jari_jari))"
      ],
      "metadata": {
        "colab": {
          "base_uri": "https://localhost:8080/"
        },
        "id": "Od6PH3O8WTNZ",
        "outputId": "913b66ec-3d77-4769-f1d9-09a4a5218dad"
      },
      "execution_count": 57,
      "outputs": [
        {
          "output_type": "stream",
          "name": "stdout",
          "text": [
            "1256.0\n"
          ]
        }
      ]
    },
    {
      "cell_type": "code",
      "source": [
        "# ARGS\n",
        "def tambahkan_semua_input(*args):\n",
        "  sum_all = 0\n",
        "  for i in args:\n",
        "    sum_all += i\n",
        "  print(sum_all)\n",
        "\n",
        "tambahkan_semua_input(1,2,3,4,5,6,7,8,9,10)"
      ],
      "metadata": {
        "id": "eNltHnXqXnFr",
        "colab": {
          "base_uri": "https://localhost:8080/"
        },
        "outputId": "a7d4353a-fb57-41d4-9793-36e53bcd64db"
      },
      "execution_count": 58,
      "outputs": [
        {
          "output_type": "stream",
          "name": "stdout",
          "text": [
            "55\n"
          ]
        }
      ]
    },
    {
      "cell_type": "code",
      "source": [
        "# MISSING ARGUMENT\n",
        "def tambahkan_input(angka_1,angka_2):\n",
        "  sum_all = 0 \n",
        "  print(angka_1 + angka_2)\n",
        "\n",
        "tambahkan_input(10,90)"
      ],
      "metadata": {
        "colab": {
          "base_uri": "https://localhost:8080/"
        },
        "id": "ZUCt9hxuZaWJ",
        "outputId": "fb52531c-957e-414c-9c2f-cec5d262591a"
      },
      "execution_count": 59,
      "outputs": [
        {
          "output_type": "stream",
          "name": "stdout",
          "text": [
            "100\n"
          ]
        }
      ]
    },
    {
      "cell_type": "code",
      "source": [
        "# Mengecek apakah bilangan prima input merupakan bilangan prima di antara 1 - 100\n",
        "# 1,7,9,11,200,300 diusahakan hasilnya di assign ke variable baru menggunakan return\n",
        "def check_prima(n):\n",
        "  if n < 2:\n",
        "    return False \n",
        "  elif n == 2:\n",
        "    return True\n",
        "  else:\n",
        "    prima_status = True\n",
        "\n",
        "    for i in range(2, n):\n",
        "      if (n % i == 0 ) and (prima_status == True):\n",
        "        prima_status = False\n",
        "\n",
        "  return prima_status\n",
        "\n",
        "a = check_prima(2)\n",
        "print(a)"
      ],
      "metadata": {
        "id": "zGc2S9fHZN78",
        "colab": {
          "base_uri": "https://localhost:8080/"
        },
        "outputId": "ed587cbc-9371-4fc5-e44a-9305f6d72bf3"
      },
      "execution_count": 60,
      "outputs": [
        {
          "output_type": "stream",
          "name": "stdout",
          "text": [
            "True\n"
          ]
        }
      ]
    },
    {
      "cell_type": "code",
      "source": [
        "# Mengecek apakah bilangan prima input merupakan bilangan prima di antara 1 - 100 - 2 \n",
        "# 1,7,9,11,200,300 diusahakan hasilnya di assign ke variable baru menggunakan return\n",
        "angka_input = 20\n",
        "def check_prime(angka_input):\n",
        "  factor = 0\n",
        "  prime_flag = False\n",
        "  for i in range(1, angka_input + 1):\n",
        "    if angka_input % i == 0:\n",
        "      factor += 1\n",
        "  if factor == 2:\n",
        "      prime_flag = True\n",
        "  else:\n",
        "      prima_flag = False\n",
        "  return prime_flag\n",
        "\n",
        "check_prime(angka_input)"
      ],
      "metadata": {
        "colab": {
          "base_uri": "https://localhost:8080/"
        },
        "id": "97hfE_FMyaXE",
        "outputId": "a8eb87f7-8427-42c6-acb3-d5a5109bb790"
      },
      "execution_count": 61,
      "outputs": [
        {
          "output_type": "execute_result",
          "data": {
            "text/plain": [
              "False"
            ]
          },
          "metadata": {},
          "execution_count": 61
        }
      ]
    },
    {
      "cell_type": "code",
      "source": [
        "# CONTINUE - Mengecek apakah bilangan prima input merupakan bilangan prima di antara 1 - 100\n",
        "def check_range(n):\n",
        "  if n >= 1 and n <= 100:\n",
        "    return True\n",
        "  else:\n",
        "    return False\n",
        "\n",
        "is_range_true = check_range(angka_input)\n",
        "is_prime_true = check_prime(angka_input)\n",
        "\n",
        "if is_range_true and is_prime_true:\n",
        "  print('Bilangan input merupakan bilangan prima')\n",
        "else:\n",
        "  print('Bilangan input bukan merupakan bilangan prima')"
      ],
      "metadata": {
        "colab": {
          "base_uri": "https://localhost:8080/"
        },
        "id": "KoqGEH_kz2Sw",
        "outputId": "513b701a-1454-427b-8a02-661f568ffd6a"
      },
      "execution_count": 62,
      "outputs": [
        {
          "output_type": "stream",
          "name": "stdout",
          "text": [
            "Bilangan input bukan merupakan bilangan prima\n"
          ]
        }
      ]
    },
    {
      "cell_type": "code",
      "source": [
        "# HOMEWORK 1 - Basic Programming IV Function\n",
        "# Mengecek apakah bilangan input merupakan Bilangan Palindrom\n",
        "import random\n",
        "input_angka = random.randrange(100, 10000, 1)\n",
        "\n",
        "def check_palindrome(input_angka):\n",
        "  temp = input_angka\n",
        "  reverse = 0 \n",
        "  while temp > 0 :\n",
        "    rem = temp % 10\n",
        "    reverse = (reverse * 10) + rem\n",
        "    temp = temp // 10\n",
        "  return input_angka == reverse"
      ],
      "metadata": {
        "id": "OfuIAQu00xYW"
      },
      "execution_count": 63,
      "outputs": []
    },
    {
      "cell_type": "code",
      "source": [
        "# CONTINUE - Mengecek apakah bilangan input merupakan Bilangan Palindrom\n",
        "def check_range(n):\n",
        "  if n >= 100 and n <= 10000:\n",
        "    return True\n",
        "  else:\n",
        "    return False\n",
        "\n",
        "is_range_true = check_range(input_angka)\n",
        "is_palindrome_true = check_palindrome(input_angka)\n",
        "\n",
        "print(\"Bilangan Input =\", input_angka)\n",
        "if is_range_true and is_palindrome_true:\n",
        "  print('Bilangan input merupakan Bilangan Palindrom')\n",
        "else:\n",
        "  print('Bilangan input bukan merupakan Bilangan Palindrom')"
      ],
      "metadata": {
        "colab": {
          "base_uri": "https://localhost:8080/"
        },
        "id": "ZqTgMXm6s-fu",
        "outputId": "a2496efe-eca7-4f43-ab5d-5d95c6a7a886"
      },
      "execution_count": 64,
      "outputs": [
        {
          "output_type": "stream",
          "name": "stdout",
          "text": [
            "Bilangan Input = 3001\n",
            "Bilangan input bukan merupakan Bilangan Palindrom\n"
          ]
        }
      ]
    }
  ]
}